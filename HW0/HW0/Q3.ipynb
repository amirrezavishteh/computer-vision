{
  "cells": [
    {
      "attachments": {},
      "cell_type": "markdown",
      "metadata": {
        "id": "P9PoDHBl3QKv"
      },
      "source": [
        "# Q3\n",
        "*Work with Numpy*<br>\n",
        "In this notebook you're going to work with the numpy library to solve the problems<br>\n",
        "Please follow the instructions and hints provided for each cell"
      ]
    },
    {
      "attachments": {},
      "cell_type": "markdown",
      "metadata": {},
      "source": [
        "## Part A"
      ]
    },
    {
      "cell_type": "code",
      "execution_count": 6,
      "metadata": {
        "id": "1ZbZ5H1j5Zhw"
      },
      "outputs": [],
      "source": [
        "import numpy as np\n",
        "import random"
      ]
    },
    {
      "cell_type": "code",
      "execution_count": 7,
      "metadata": {
        "id": "5nvuXUyB2aLJ"
      },
      "outputs": [],
      "source": [
        "def create_matrix(n):\n",
        "  \"\"\"\n",
        "  In this function you should create matrix in order of n*n with random numbers \n",
        "  in the [n, n+100) interval.\n",
        "\n",
        "  see the bellow link:\n",
        "    https://numpy.org/doc/stable/reference/random/generated/numpy.random.randint.html\n",
        "\n",
        "  Arguments:\n",
        "    inputs:\n",
        "      n: an integer describing the order of the matrix\n",
        "    outputs:\n",
        "      created matrix  \n",
        "  \"\"\"\n",
        "  ##############################################\n",
        "  ############ YOUR CODES GO HERE ##############\n",
        "  \n",
        "  matrix = np.random.randint(n, n+100, size=(n, n))\n",
        "  ##############################################\n",
        "\n",
        "  return matrix"
      ]
    },
    {
      "cell_type": "code",
      "execution_count": 8,
      "metadata": {
        "id": "1PiKjLsl6KhD"
      },
      "outputs": [
        {
          "name": "stdout",
          "output_type": "stream",
          "text": [
            "[[ 94  41  47  57  78  71]\n",
            " [100  97  47  53  41   7]\n",
            " [ 49  90  46  13  65  34]\n",
            " [ 62  15  80  50  38  44]\n",
            " [103   8  63  85  78  83]\n",
            " [ 40  43  95  51  81  99]]\n"
          ]
        }
      ],
      "source": [
        "\"\"\"\n",
        "In this cell you should get the input n and create the matrix by calling the function\n",
        "Then print the matrix\n",
        "\"\"\"\n",
        "##############################################\n",
        "############ YOUR CODES GO HERE ##############\n",
        "n = int(input(\"Enter the order of the matrix: \"))\n",
        "matrix = create_matrix(n)\n",
        "# print matrix\n",
        "print(matrix)\n",
        "##############################################"
      ]
    },
    {
      "cell_type": "code",
      "execution_count": 9,
      "metadata": {
        "id": "Cnocq2_56mdx"
      },
      "outputs": [],
      "source": [
        "def count_digits(matrix):\n",
        "  \"\"\"\n",
        "  In this function you should implement a routine to count the digits in the given matrix.\n",
        "\n",
        "  Arguments:\n",
        "    inputs:\n",
        "      matrix: input matrix\n",
        "    outputs:\n",
        "      digits: a dictionary containing digits as its keys and the counted numbers as its value\n",
        "  \"\"\"\n",
        "\n",
        "  ##############################################\n",
        "  ############ YOUR CODES GO HERE ##############\n",
        "  \n",
        "  digits = {}\n",
        "  for i in range(10):\n",
        "    digits[i] = 0\n",
        "  for i in range(len(matrix)):\n",
        "    for j in range(len(matrix)):\n",
        "      strdeg= str(matrix[i][j])\n",
        "      for k in range(len(strdeg)):\n",
        "        digits[int(strdeg[k])] += 1\n",
        "   \n",
        "  ##############################################\n",
        "\n",
        "  return digits\n"
      ]
    },
    {
      "cell_type": "code",
      "execution_count": 10,
      "metadata": {
        "id": "Aq3mHGcc7f2i"
      },
      "outputs": [
        {
          "name": "stdout",
          "output_type": "stream",
          "text": [
            "Digit 0 : 7\n",
            "Digit 1 : 9\n",
            "Digit 2 : 1\n",
            "Digit 3 : 8\n",
            "Digit 4 : 12\n",
            "Digit 5 : 8\n",
            "Digit 6 : 4\n",
            "Digit 7 : 8\n",
            "Digit 8 : 8\n",
            "Digit 9 : 7\n"
          ]
        }
      ],
      "source": [
        "\"\"\"\n",
        "In this cell call the implemented function and print the result\n",
        "\"\"\"\n",
        "\n",
        "\n",
        "def printres(res):\n",
        "  for i in range(10):\n",
        "    print(\"Digit {} : {}\".format(i, res[i]))\n",
        "res = count_digits(matrix)\n",
        "printres(res)\n",
        "##############################################\n",
        "############ YOUR CODES GO HERE ##############  \n",
        "##############################################"
      ]
    },
    {
      "attachments": {},
      "cell_type": "markdown",
      "metadata": {
        "id": "ALqhYliZ8Ie8"
      },
      "source": [
        "## Part B"
      ]
    },
    {
      "cell_type": "code",
      "execution_count": 11,
      "metadata": {},
      "outputs": [],
      "source": [
        "def traverse_matrix(matrix):\n",
        "    \"\"\"\n",
        "    Traverse the input matrix in the given manner then print result\n",
        "\n",
        "    Arguments:\n",
        "      inputs:\n",
        "        matrix: input matrix\n",
        "      outputs\n",
        "    \"\"\"\n",
        "    x = [0, 0]\n",
        "    n = len(matrix)\n",
        "    result = []\n",
        "    result.append(x)\n",
        "    goside = 1\n",
        "    goDiameter = 0\n",
        "    lastlocation = x\n",
        "    s=0\n",
        "    d=0\n",
        "    while (lastlocation != [n-1, n-1]):\n",
        "        lastlocation = result[len(result)-1].copy()\n",
        "        if goside == 1:\n",
        "            if lastlocation[0]==0 and lastlocation[1]==n-1:\n",
        "                lastlocation[0]+=1\n",
        "                s=1\n",
        "            elif lastlocation[0]==0 or lastlocation[0]==n-1 and lastlocation!=(n-1,n-1) :\n",
        "                \n",
        "                \n",
        "                lastlocation[1]+=1\n",
        "                s=1\n",
        "            elif lastlocation[1]==n-1 or lastlocation[1]==0 and lastlocation!=(0,0) and lastlocation!=(n-1,n-1):\n",
        "                lastlocation[0]+=1\n",
        "                s=1\n",
        "                \n",
        "                \n",
        "        elif goDiameter == 1:\n",
        "            m=lastlocation.copy()\n",
        "            temp = lastlocation[0]\n",
        "            lastlocation[0] = lastlocation[1]\n",
        "            lastlocation[1] = temp\n",
        "            i=[-1,-1]\n",
        "            if m[0]<lastlocation[0] :\n",
        "                i[0]*=-1\n",
        "            if m[1]<lastlocation[1] :\n",
        "                i[1]*=-1\n",
        "            while m!=lastlocation :\n",
        "                b=0\n",
        "                m[0]+=i[0]\n",
        "                m[1]+=i[1]\n",
        "                \n",
        "                result.append(m.copy())\n",
        "                \n",
        "                \n",
        "                \n",
        "            d=1\n",
        "        if d==1:\n",
        "            goside=1\n",
        "            goDiameter=0\n",
        "            d=0\n",
        "        elif s==1:\n",
        "            goside=0\n",
        "            goDiameter=1\n",
        "            s=0\n",
        "        \n",
        "        if result[len(result)-1]!=lastlocation:\n",
        "            result.append(lastlocation.copy())\n",
        "        lastlocation = result[len(result)-1]\n",
        "        res=[]\n",
        "    # for e in result:\n",
        "    #     if res.__contains__(e):\n",
        "    #         pass\n",
        "    #     else:\n",
        "    #         res.append(e)\n",
        "    return result\n"
      ]
    },
    {
      "cell_type": "code",
      "execution_count": 12,
      "metadata": {},
      "outputs": [
        {
          "name": "stdout",
          "output_type": "stream",
          "text": [
            "[[0, 0], [0, 1], [1, 0], [2, 0], [1, 1], [0, 2], [0, 3], [1, 2], [2, 1], [3, 0], [4, 0], [3, 1], [2, 2], [1, 3], [0, 4], [0, 5], [1, 4], [2, 3], [3, 2], [4, 1], [5, 0], [5, 1], [4, 2], [3, 3], [2, 4], [1, 5], [2, 5], [3, 4], [4, 3], [5, 2], [5, 3], [4, 4], [3, 5], [4, 5], [5, 4], [5, 5]]\n"
          ]
        }
      ],
      "source": [
        "res=traverse_matrix(matrix)\n",
        "print(res)"
      ]
    }
  ],
  "metadata": {
    "colab": {
      "provenance": []
    },
    "kernelspec": {
      "display_name": "Python 3",
      "language": "python",
      "name": "python3"
    },
    "language_info": {
      "codemirror_mode": {
        "name": "ipython",
        "version": 3
      },
      "file_extension": ".py",
      "mimetype": "text/x-python",
      "name": "python",
      "nbconvert_exporter": "python",
      "pygments_lexer": "ipython3",
      "version": "3.11.1"
    },
    "vscode": {
      "interpreter": {
        "hash": "2aa32f47bfdf055a1c6797a27f941ed6f5b7e1d79b558a27aecb8e21312c74e9"
      }
    }
  },
  "nbformat": 4,
  "nbformat_minor": 0
}
