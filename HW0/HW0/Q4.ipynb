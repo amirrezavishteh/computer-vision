{
 "cells": [
  {
   "cell_type": "markdown",
   "metadata": {},
   "source": [
    "# Q4"
   ]
  },
  {
   "cell_type": "markdown",
   "metadata": {},
   "source": [
    "## Part A"
   ]
  },
  {
   "cell_type": "code",
   "execution_count": 24,
   "metadata": {},
   "outputs": [
    {
     "name": "stdout",
     "output_type": "stream",
     "text": [
      "[[0.796875 1.796875 2.796875]\n",
      " [4.       5.       6.      ]\n",
      " [7.203125 8.203125 9.203125]]\n"
     ]
    }
   ],
   "source": [
    "import numpy as np\n",
    "\n",
    "\"\"\"\n",
    "Please define the mentioned matrices and the operations\n",
    "\n",
    "consider the bellow links:\n",
    "https://numpy.org/doc/stable/reference/generated/numpy.transpose.html\n",
    "\n",
    "https://numpy.org/doc/stable/reference/generated/numpy.dot.html\n",
    "\n",
    "\"\"\"\n",
    "\n",
    "##############################################\n",
    "############ YOUR CODES GO HERE ##############  \n",
    "\n",
    "\n",
    "a=np.array([[1,2,3],[4,5,6],[7,8,9]])\n",
    "\n",
    "b=np.array([[1,2,3],[4,5,6],[7,8,9]])\n",
    "c=np.array([[1],[-1],[1]])\n",
    "\n",
    "newtranspose=np.transpose(a)\n",
    "# print(newtranspose)\n",
    "res=np.dot(newtranspose,a)\n",
    "\n",
    "# print(res)\n",
    "reverse=np.linalg.inv(res)\n",
    "res2=np.dot(reverse,newtranspose)\n",
    "res3=np.dot(res2,c)\n",
    "final=np.add(res3,a)\n",
    "print(final)\n",
    "\n",
    "\n",
    "##############################################"
   ]
  },
  {
   "cell_type": "markdown",
   "metadata": {},
   "source": [
    "## Part B"
   ]
  },
  {
   "cell_type": "code",
   "execution_count": 36,
   "metadata": {},
   "outputs": [],
   "source": [
    "def window_sliding(A, B):\n",
    "\n",
    "  \"\"\"\n",
    "  In this function you should implement the sliding window method\n",
    "\n",
    "  Arguments:\n",
    "    inputs:\n",
    "      A: a matrix of 3*3 order for treating as the window\n",
    "      B: a matrix of 5*5 order for treating as the input matrix\n",
    "    outputs:\n",
    "      res: resulting matrix of the sliding window \n",
    "  \"\"\"\n",
    "\n",
    "  ##############################################\n",
    "  ############ YOUR CODES GO HERE ##############\n",
    "  n=A.shape[0]\n",
    "  m=B.shape[0]\n",
    "  res=np.zeros((n-m+1,n-m+1))\n",
    "  for i in range(0,n-m+1):\n",
    "    for j in range(0,n-m+1):\n",
    "      res[i,j]=np.multiply(A[i:i+m , j:j+m], B).sum()\n",
    "\n",
    "  ##############################################\n",
    "\n",
    "  return res"
   ]
  },
  {
   "cell_type": "code",
   "execution_count": 38,
   "metadata": {},
   "outputs": [
    {
     "name": "stdout",
     "output_type": "stream",
     "text": [
      "[[-7. -5. -7.]\n",
      " [-5. -2. -5.]\n",
      " [-7. -5. -7.]]\n"
     ]
    }
   ],
   "source": [
    "A = np.array([[1,1,1,1,1],[1,2,2,2,1],[1,2,2,2,1],[1,2,2,2,1],[1,1,1,1,1]])\n",
    "B = np.array([[1,1,1],[1,-9,1],[1,1,1]])\n",
    "print(window_sliding(A, B))"
   ]
  }
 ],
 "metadata": {
  "kernelspec": {
   "display_name": "Python 3",
   "language": "python",
   "name": "python3"
  },
  "language_info": {
   "codemirror_mode": {
    "name": "ipython",
    "version": 3
   },
   "file_extension": ".py",
   "mimetype": "text/x-python",
   "name": "python",
   "nbconvert_exporter": "python",
   "pygments_lexer": "ipython3",
   "version": "3.11.1"
  },
  "orig_nbformat": 4,
  "vscode": {
   "interpreter": {
    "hash": "2aa32f47bfdf055a1c6797a27f941ed6f5b7e1d79b558a27aecb8e21312c74e9"
   }
  }
 },
 "nbformat": 4,
 "nbformat_minor": 2
}
