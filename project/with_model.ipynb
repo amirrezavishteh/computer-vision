{
 "cells": [
  {
   "cell_type": "code",
   "execution_count": null,
   "metadata": {},
   "outputs": [],
   "source": [
    "import tensorflow as tf\n",
    "from tensorflow.keras.layers import Input, Dense, Flatten\n",
    "from tensorflow.keras.models import Model\n",
    "from tensorflow.keras.applications import EfficientNetB7\n",
    "from google.colab.patches import cv2_imshow\n",
    "import os\n",
    "import cv2\n",
    "import numpy as np"
   ]
  },
  {
   "cell_type": "code",
   "execution_count": null,
   "metadata": {},
   "outputs": [],
   "source": [
    "from google.colab import drive\n",
    "drive.mount('/content/drive')"
   ]
  },
  {
   "cell_type": "code",
   "execution_count": null,
   "metadata": {},
   "outputs": [],
   "source": [
    "zip_file_path = '/content/drive/MyDrive/dataset.zip'\n",
    "destination_path = '/content'\n",
    "!unzip -q /content/drive/MyDrive/dataset.zip -d /content"
   ]
  },
  {
   "cell_type": "code",
   "execution_count": null,
   "metadata": {},
   "outputs": [],
   "source": [
    "def get_dataset(ds_type):\n",
    "  images = []\n",
    "  labels = []\n",
    "  for (dirpath, dirname, filenames) in os.walk(f\"/content/{ds_type}\"):\n",
    "    for file_name in filenames:\n",
    "      img_name = file_name.split(\".\")\n",
    "      name = img_name[0]\n",
    "      extension = img_name[1]\n",
    "      if(extension == \"jpg\"):\n",
    "        label_name = dirpath+\"/\"+name+\".txt\"\n",
    "        img_file_name = dirpath+\"/\"+name+\".jpg\"\n",
    "        f = open(label_name, \"r\")\n",
    "        line1 = f.readline()\n",
    "        line2 = f.readline()\n",
    "        cid1, x1, y1, w1, h1 = list(map(float, line1.split()))\n",
    "        cid2, x2, y2, w2, h2 = list(map(float, line2.split()))\n",
    "        im = cv2.imread(img_file_name)\n",
    "        im = cv2.resize(im, (182, 290), interpolation = cv2.INTER_LINEAR)\n",
    "        images.append(im)\n",
    "        labels.append([cid1, x1, y1, w1, h1, cid2, x2, y2, w2, h2])\n",
    "  return np.array(images), np.array(labels).reshape(-1, num_classes)"
   ]
  },
  {
   "cell_type": "code",
   "execution_count": null,
   "metadata": {},
   "outputs": [],
   "source": [
    "import tensorflow as tf\n",
    "\n",
    "def iou_loss(y_true, y_pred):\n",
    "  box1 = (y_pred[1]*290,y_pred[2]*182,y_pred[3]*290,y_pred[4]*182)\n",
    "  box2 = (y_true[1]*290,y_true[2]*182,y_true[3]*290,y_true[4]*182)\n",
    "  box3 = (y_pred[1]*290,y_pred[2]*182,y_pred[3]*290,y_pred[4]*182)\n",
    "  box4 = (y_true[1],y_true[2],y_true[3],y_true[4])\n",
    "  # Get coordinates of the intersection rectangle\n",
    "  x1 = max(box1[0], box2[0])\n",
    "  y1 = max(box1[1], box2[1])\n",
    "  x2 = min(box1[0] + box1[2], box2[0] + box2[2])\n",
    "  y2 = min(box1[1] + box1[3], box2[1] + box2[3])\n",
    "  # Calculate area of the intersection rectangle\n",
    "  intersection_area = max(0, x2 - x1) * max(0, y2 - y1)\n",
    "  # Calculate area of the union rectangle\n",
    "  box1_area = box1[2] * box1[3]\n",
    "  box2_area = box2[2] * box2[3]\n",
    "  union_area = box1_area + box2_area - intersection_area\n",
    "  # Calculate IoU\n",
    "  iou1 = intersection_area / union_area\n",
    "  x1 = max(box3[0], box4[0])\n",
    "  y1 = max(box3[1], box4[1])\n",
    "  x2 = min(box3[0] + box3[2], box4[0] + box4[2])\n",
    "  y2 = min(box3[1] + box3[3], box4[1] + box4[3])\n",
    "  # Calculate area of the intersection rectangle\n",
    "  intersection_area = max(0, x2 - x1) * max(0, y2 - y1)\n",
    "  # Calculate area of the union rectangle\n",
    "  box3_area = box3[2] * box3[3]\n",
    "  box4_area = box4[2] * box4[3]\n",
    "  union_area = box3_area + box4_area - intersection_area\n",
    "  # Calculate IoU\n",
    "  iou2 = intersection_area / union_area\n",
    "  return iou1+iou2"
   ]
  },
  {
   "cell_type": "code",
   "execution_count": null,
   "metadata": {},
   "outputs": [],
   "source": [
    "# Define input shape and number of classes\n",
    "input_shape = (290, 182, 3)\n",
    "num_classes = 10\n",
    "\n",
    "# Load pre-trained EfficientNetB7 model with ImageNet weights\n",
    "base_model = EfficientNetB7(include_top=False, weights='imagenet', input_shape=input_shape)\n",
    "\n",
    "# Freeze base model layers\n",
    "for layer in base_model.layers[:len(base_model.layers)-5]:\n",
    "    layer.trainable = False\n",
    "\n",
    "# Add custom output layers for OCR\n",
    "x = base_model.output\n",
    "x = Flatten()(x)\n",
    "x = Dense(256, activation='relu')(x)\n",
    "x = Dense(128, activation='relu')(x)\n",
    "x = Dense(num_classes, activation='relu')(x)\n",
    "\n",
    "# Create the final model\n",
    "model = Model(inputs=base_model.input, outputs=x)\n",
    "history = model.summary(expand_nested=True)\n",
    "# Compile the model\n",
    "model.compile(optimizer='adam', loss='categorical_crossentropy', metrics=['accuracy'])"
   ]
  },
  {
   "cell_type": "code",
   "execution_count": null,
   "metadata": {},
   "outputs": [],
   "source": [
    "im = cv2.imread(\"/content/6.jpg\")\n",
    "im = cv2.resize(im, (182, 290), interpolation = cv2.INTER_LINEAR)\n",
    "im = np.expand_dims(im, axis=0)  # Add batch dimension\n",
    "output = model.predict(im)\n",
    "cv2_imshow(output)"
   ]
  }
 ],
 "metadata": {
  "language_info": {
   "name": "python"
  },
  "orig_nbformat": 4
 },
 "nbformat": 4,
 "nbformat_minor": 2
}
